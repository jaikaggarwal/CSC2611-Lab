{
 "cells": [
  {
   "cell_type": "code",
   "execution_count": 1,
   "metadata": {},
   "outputs": [],
   "source": [
    "import pandas as pd\n",
    "import numpy as np\n",
    "import os\n",
    "import nltk\n",
    "from tqdm import tqdm\n",
    "from nltk.corpus import stopwords\n",
    "import string\n",
    "from collections import Counter, defaultdict\n",
    "import pickle\n",
    "from nltk import bigrams\n",
    "from gensim.models import KeyedVectors\n",
    "from sklearn.metrics.pairwise import cosine_similarity, cosine_distances\n",
    "from scipy.stats import pearsonr\n",
    "import matplotlib.pyplot as plt\n",
    "from scipy.sparse import csr_matrix\n",
    "from sklearn.decomposition import PCA"
   ]
  },
  {
   "cell_type": "code",
   "execution_count": 31,
   "metadata": {},
   "outputs": [],
   "source": [
    "STOPWORDS = stopwords.words(\"english\")\n",
    "PUNCTUATION = list(string.punctuation) + [\"``\", \"''\", \"--\"]\n",
    "SYNONYM_PAIRS_FILE = \"synonym_pairs.txt\"\n",
    "ANALOGY_TEST_FILE = \"word-test.v1.txt\""
   ]
  },
  {
   "cell_type": "markdown",
   "metadata": {},
   "source": [
    "# Helper Functions"
   ]
  },
  {
   "cell_type": "code",
   "execution_count": null,
   "metadata": {},
   "outputs": [],
   "source": [
    "def load_synonym_pairs():\n",
    "    with open(SYNONYM_PAIRS_FILE, \"r\") as file:\n",
    "        data = file.readlines()\n",
    "        data = [line.strip().split(\" \") for line in data]\n",
    "        data = {(line[0], line[1]): float(line[2]) for line in data if len(line) == 3}\n",
    "    # Check the number of pairs is correct\n",
    "    assert len(data) == 65\n",
    "    return data"
   ]
  },
  {
   "cell_type": "code",
   "execution_count": 3,
   "metadata": {},
   "outputs": [],
   "source": [
    "def load_synonym_pairs():\n",
    "    with open(SYNONYM_PAIRS_FILE, \"r\") as file:\n",
    "        data = file.readlines()\n",
    "        data = [line.strip().split(\" \") for line in data]\n",
    "        data = {(line[0], line[1]): float(line[2]) for line in data if len(line) == 3}\n",
    "    # Check the number of pairs is correct\n",
    "    assert len(data) == 65\n",
    "    return data\n",
    "\n",
    "def preprocess_brown_corpus(corpus):\n",
    "#     (word.lower() not in STOPWORDS) and \n",
    "    c = [word.lower() for word in corpus if (word not in PUNCTUATION)]\n",
    "    return c"
   ]
  },
  {
   "cell_type": "code",
   "execution_count": 4,
   "metadata": {},
   "outputs": [],
   "source": [
    "# nltk.download('brown')\n",
    "brown_corpus = nltk.corpus.brown.words()\n",
    "syn_pairs = load_synonym_pairs()"
   ]
  },
  {
   "cell_type": "markdown",
   "metadata": {},
   "source": [
    "# Preprocessing\n",
    "To preprocess the data, I apply the typical preprocessing steps of removing punctuation and converting all words to lower case. I removed all instances of punctuation as they do not aid a model's ability to perform a word similarity task. In addition, since we have no reason to distinguish proper nouns from common nouns in our use case, I lowercase the data so that we have more data to work with (as now words like \"city\" and \"City\" will be treated as the same term)."
   ]
  },
  {
   "cell_type": "code",
   "execution_count": 5,
   "metadata": {},
   "outputs": [
    {
     "name": "stdout",
     "output_type": "stream",
     "text": [
      "The total length of the brown corpus is 1161192 words\n",
      "The total length of the brown corpus is 1013320 words\n"
     ]
    }
   ],
   "source": [
    "# Total length of the corpus\n",
    "print(f\"The total length of the brown corpus is {len(brown_corpus)} words\")\n",
    "preproc_corpus = preprocess_brown_corpus(brown_corpus)\n",
    "print(f\"The total length of the brown corpus is {len(preproc_corpus)} words\")"
   ]
  },
  {
   "cell_type": "markdown",
   "metadata": {},
   "source": [
    "# Constructing LSA Model from Basic Exercise"
   ]
  },
  {
   "cell_type": "code",
   "execution_count": 6,
   "metadata": {},
   "outputs": [],
   "source": [
    "def extract_token_counts(corpus):\n",
    "    c = Counter(corpus)\n",
    "    pairs = [(word, c[word]) for word in c]\n",
    "    return sorted(pairs, key=lambda x: x[1])[-1:-5001:-1]"
   ]
  },
  {
   "cell_type": "code",
   "execution_count": 7,
   "metadata": {},
   "outputs": [
    {
     "name": "stdout",
     "output_type": "stream",
     "text": [
      "Most common terms:\n",
      "the (n=69971)\n",
      "of (n=36412)\n",
      "and (n=28853)\n",
      "to (n=26158)\n",
      "a (n=23195)\n",
      "\n",
      "Least common terms:\n",
      "rourke (n=19)\n",
      "killpath (n=19)\n",
      "haney (n=19)\n",
      "letch (n=19)\n",
      "allen (n=20)\n"
     ]
    }
   ],
   "source": [
    "# Extract frequencies for each token\n",
    "token_counts = extract_token_counts(preproc_corpus)\n",
    "N_most_common = 5\n",
    "print(\"Most common terms:\")\n",
    "for pair in token_counts[:N_most_common]:\n",
    "    print(f\"{pair[0]} (n={pair[1]})\")\n",
    "print(\"\\nLeast common terms:\")\n",
    "for pair in token_counts[-1:-N_most_common-1:-1]:\n",
    "    print(f\"{pair[0]} (n={pair[1]})\")"
   ]
  },
  {
   "cell_type": "code",
   "execution_count": 10,
   "metadata": {},
   "outputs": [
    {
     "name": "stdout",
     "output_type": "stream",
     "text": [
      "Number of words in W: 5000\n",
      "Number of words in W: 5031\n"
     ]
    }
   ],
   "source": [
    "W = [pair[0] for pair in token_counts]\n",
    "print(f\"Number of words in W: {len(W)}\")\n",
    "\n",
    "rg_65_words = list(set(sum(syn_pairs, ())))\n",
    "W = list(set(W).union(rg_65_words))\n",
    "print(f\"Number of words in W: {len(W)}\")"
   ]
  },
  {
   "cell_type": "code",
   "execution_count": 11,
   "metadata": {},
   "outputs": [
    {
     "name": "stderr",
     "output_type": "stream",
     "text": [
      "100%|██████████| 1013319/1013319 [01:56<00:00, 8661.04it/s]\n"
     ]
    }
   ],
   "source": [
    "all_bigrams = list(bigrams(preproc_corpus))\n",
    "attested_bigrams = []#defaultdict(lambda: 0)\n",
    "for bigram in tqdm(all_bigrams, total=len(list(all_bigrams))):\n",
    "    w1, w2 = bigram\n",
    "    if w1 in W:\n",
    "        if w2 in W:\n",
    "            attested_bigrams.append((w1, w2))\n",
    "attested_bigrams = Counter(attested_bigrams)"
   ]
  },
  {
   "cell_type": "code",
   "execution_count": 12,
   "metadata": {},
   "outputs": [],
   "source": [
    "def get_mappings(all_words):\n",
    "    token2idx = {all_words[i]: i for i in range(len(all_words))}\n",
    "    idx2token = {val: key for key, val in token2idx.items()}\n",
    "    return token2idx, idx2token\n",
    "\n",
    "def get_cooccurence(word_1, word_2, matrix, token2idx):\n",
    "    idx_1 = token2idx[word_1]\n",
    "    idx_2 = token2idx[word_2]\n",
    "    return matrix[idx_1, idx_2]\n",
    "\n",
    "token2idx, idx2token = get_mappings(list(W))\n",
    "\n",
    "data = []\n",
    "rows = []\n",
    "cols = []\n",
    "for word_1 in W:\n",
    "    for word_2 in W:\n",
    "        val = attested_bigrams.get((word_1, word_2), 0)\n",
    "        data.append(val)\n",
    "        rows.append(token2idx[word_1])\n",
    "        cols.append(token2idx[word_2])\n",
    "\n",
    "m1 = csr_matrix((data, (rows, cols)))"
   ]
  },
  {
   "cell_type": "code",
   "execution_count": 13,
   "metadata": {},
   "outputs": [],
   "source": [
    "def compute_ppmi(model):\n",
    "    joint = (model/model.sum()).todense()\n",
    "    px = joint.sum(axis=0)\n",
    "    py = joint.sum(axis=1)\n",
    "    ind_joint = (px.T@py.T)\n",
    "    div = np.divide(joint, ind_joint, out=np.zeros_like(joint), where=ind_joint!=0)\n",
    "    pmi = np.log2(div)\n",
    "    ppmi = np.where(pmi>0, pmi, 0)\n",
    "    return ppmi"
   ]
  },
  {
   "cell_type": "code",
   "execution_count": 14,
   "metadata": {},
   "outputs": [
    {
     "name": "stderr",
     "output_type": "stream",
     "text": [
      "/u/jai/miniconda3/envs/venv37/lib/python3.7/site-packages/ipykernel_launcher.py:7: RuntimeWarning: divide by zero encountered in log2\n",
      "  import sys\n"
     ]
    }
   ],
   "source": [
    "ppmi = compute_ppmi(m1)"
   ]
  },
  {
   "cell_type": "code",
   "execution_count": 25,
   "metadata": {},
   "outputs": [],
   "source": [
    "true = []\n",
    "for key in syn_pairs:\n",
    "    true.append(syn_pairs[key])\n",
    "    \n",
    "def get_model_preds(model, pair):\n",
    "    w1, w2 = pair\n",
    "    e1 = model[token2idx[w1]].reshape(1, -1)\n",
    "    e2 = model[token2idx[w2]].reshape(1, -1)\n",
    "    pred = cosine_similarity(e1, e2)[0][0]\n",
    "    return pred"
   ]
  },
  {
   "cell_type": "code",
   "execution_count": 57,
   "metadata": {},
   "outputs": [
    {
     "name": "stdout",
     "output_type": "stream",
     "text": [
      "Word-Contex Vector Correlation:  0.23\n",
      "Fitting 10 dim\n",
      "10 Dimensional LSA Correlation:  0.13\n",
      "Fitting 100 dim\n",
      "100 Dimensional LSA Correlation:  0.31\n",
      "Fitting 300 dim\n",
      "300 Dimensional LSA Correlation:  0.36\n"
     ]
    }
   ],
   "source": [
    "m1_preds = [get_model_preds(m1, pair) for pair in syn_pairs]\n",
    "print(f\"Word-Contex Vector Correlation: \", np.round(pearsonr(true, m1_preds)[0], 2))\n",
    "\n",
    "print(\"Fitting 10 dim\")\n",
    "pca_10 = PCA(n_components=10)\n",
    "m2_10 = pca_10.fit_transform(ppmi)\n",
    "m2_10_preds = [get_model_preds(m2_10, pair) for pair in syn_pairs]\n",
    "print(f\"10 Dimensional LSA Correlation: \", np.round(pearsonr(true, m2_10_preds)[0], 2))\n",
    "\n",
    "print(\"Fitting 100 dim\")\n",
    "pca_100 = PCA(n_components=100)\n",
    "m2_100 = pca_100.fit_transform(ppmi)\n",
    "m2_100_preds = [get_model_preds(m2_100, pair) for pair in syn_pairs]\n",
    "print(f\"100 Dimensional LSA Correlation: \", np.round(pearsonr(true, m2_100_preds)[0], 2))\n",
    "\n",
    "print(\"Fitting 300 dim\")\n",
    "pca_300 = PCA(n_components=300)\n",
    "m2_300 = pca_300.fit_transform(ppmi)\n",
    "m2_300_preds = [get_model_preds(m2_300, pair) for pair in syn_pairs]\n",
    "print(f\"300 Dimensional LSA Correlation: \", np.round(pearsonr(true, m2_300_preds)[0], 2))"
   ]
  },
  {
   "cell_type": "markdown",
   "metadata": {},
   "source": [
    "# Assignment Part 1: Synchronic word embedding"
   ]
  },
  {
   "cell_type": "code",
   "execution_count": 115,
   "metadata": {},
   "outputs": [],
   "source": [
    "w2v_model = KeyedVectors.load_word2vec_format('/ais/hal9000/datasets/wordembeddings/google_news_w2v.bin', binary=True)"
   ]
  },
  {
   "cell_type": "markdown",
   "metadata": {},
   "source": [
    "Step 2: Using gensim, extract embeddings of words in Table 1 of RG65 that also appeared in\n",
    "the set Wfrom the earlier exericse, i.e., the pairs of words should be identical in all analyses."
   ]
  },
  {
   "cell_type": "code",
   "execution_count": 20,
   "metadata": {},
   "outputs": [],
   "source": [
    "def word_to_embedding(words, model):\n",
    "    word2embedding = {}\n",
    "    for word in words:\n",
    "        word2embedding[word] = model[word]\n",
    "    return word2embedding"
   ]
  },
  {
   "cell_type": "code",
   "execution_count": 21,
   "metadata": {},
   "outputs": [],
   "source": [
    "word2embedding = word_to_embedding(rg_65_words, w2v_model)"
   ]
  },
  {
   "cell_type": "markdown",
   "metadata": {},
   "source": [
    "Step 3. Calculate cosine distance between each pair of word embeddings you have extracted,\n",
    "and report the Pearson correlation between word2vec-based and human similarities. [1 point]\n",
    "Comment on this value in comparison to those from LSA and word-context vectors from analyses in the earlier exercise."
   ]
  },
  {
   "cell_type": "code",
   "execution_count": 22,
   "metadata": {},
   "outputs": [],
   "source": [
    "# Calculate cosine similarity\n",
    "true_vals = []\n",
    "pred_vals = []\n",
    "for pair in syn_pairs:\n",
    "    w1, w2 = pair\n",
    "    w1_e = word2embedding[w1].reshape(1, -1)\n",
    "    w2_e = word2embedding[w2].reshape(1, -1)\n",
    "    cos_sim = cosine_similarity(w1_e, w2_e)[0][0]\n",
    "    \n",
    "    true_vals.append(syn_pairs[pair])\n",
    "    pred_vals.append(cos_sim)"
   ]
  },
  {
   "cell_type": "code",
   "execution_count": 54,
   "metadata": {},
   "outputs": [
    {
     "name": "stdout",
     "output_type": "stream",
     "text": [
      "0.77\n"
     ]
    }
   ],
   "source": [
    "# Report pearson correlation\n",
    "corr, p_val = pearsonr(true_vals, pred_vals)\n",
    "print(np.round(corr, 2))"
   ]
  },
  {
   "cell_type": "markdown",
   "metadata": {},
   "source": [
    "The correlation of the Word2Vec embeddings with the human judgements is much higher than that of both the word-context vectors and the LSA embeddings. The correlations are 0.23 for the word-context vectors, and 0.13, 0.31, and 0.36 for the 10, 100, and 300 dimensional LSA models respectively. For the Word2Vec model, our correlation is 0.77. The fact that the Word2Vec model predictions better correlate with human judgements is sensible, as the word-context vectors and the LSA embeddings are derived from the raw count data, where as the Word2Vec model is trained to learn high quality embeddings for words."
   ]
  },
  {
   "cell_type": "markdown",
   "metadata": {},
   "source": [
    "# Task 4: Analogy Test"
   ]
  },
  {
   "cell_type": "markdown",
   "metadata": {},
   "source": [
    "Step 4. Perform the analogy test based on data here (or as provided) with the pre-trained\n",
    "word2vec embeddings. Report the accuracy on the semantic analogy test and the syntactic\n",
    "analogy test (see Note below). [2 points] \n",
    "\n",
    "Repeat the analysis with LSA vectors (300 dimensions) from the earlier exercise, and commment on the results in comparison to those from word2vec. [1 point]\n",
    "\n",
    "Note: It is expected that the number of entries you could test with LSA\n",
    "would be smaller than that based on word2vec. For a fair comparison, you should consider\n",
    "reporting model accuracies based on the small test set, for both word2vec and LSA."
   ]
  },
  {
   "cell_type": "markdown",
   "metadata": {},
   "source": [
    "First, we must limit the set of analogies to those that use words present in the LSA vocabulary. We can do so with the following function."
   ]
  },
  {
   "cell_type": "code",
   "execution_count": 61,
   "metadata": {},
   "outputs": [],
   "source": [
    "def load_analogy_test(word_set):\n",
    "    with open(ANALOGY_TEST_FILE, \"r\") as file:\n",
    "        data = file.readlines()\n",
    "        data = [line.strip().split(\" \") for line in data]\n",
    "        data = [list(map(str.lower, line)) for line in data if len(line) == 4]\n",
    "        data = [line for line in data if (all(word in word_set for word in line))]\n",
    "    return data\n",
    "\n",
    "analogies = load_analogy_test(set(W))\n",
    "with open(\"parsed_analogies.txt\", \"w\") as file:\n",
    "    for line in analogies:\n",
    "        file.write(\" \".join(line))\n",
    "        file.write(\"\\n\")"
   ]
  },
  {
   "cell_type": "markdown",
   "metadata": {},
   "source": [
    "Once we find the subset of analogies that will work in both Word2Vec and our LSA model, we can split them into semantic and syntactic analogy sets based on the original file. Also, to make the LSA model comparable to Word2Vec, we can convert it to a KeyedVectors object."
   ]
  },
  {
   "cell_type": "code",
   "execution_count": 116,
   "metadata": {},
   "outputs": [],
   "source": [
    "lsa = KeyedVectors(300)\n",
    "lsa.add_vectors(W, m2_300)"
   ]
  },
  {
   "cell_type": "code",
   "execution_count": 117,
   "metadata": {},
   "outputs": [
    {
     "name": "stderr",
     "output_type": "stream",
     "text": [
      "100%|██████████| 147/147 [00:00<00:00, 2326.16it/s]\n",
      "100%|██████████| 147/147 [00:24<00:00,  5.97it/s]\n",
      "100%|██████████| 2045/2045 [00:00<00:00, 2809.24it/s]\n",
      "100%|██████████| 2045/2045 [05:15<00:00,  6.48it/s]\n"
     ]
    }
   ],
   "source": [
    "def perform_analogy_test(analogies, model):\n",
    "    correct = 0\n",
    "    for i in tqdm(range(len(analogies))):\n",
    "        analogy = analogies[i]\n",
    "        a, b, c, d = analogy\n",
    "        pred = model.most_similar(positive=[b, c], negative=[a])[0][0]\n",
    "        if d == pred:\n",
    "            correct += 1\n",
    "    return correct/len(analogies)\n",
    "\n",
    "\n",
    "\n",
    "with open(\"semantic_analogies.txt\", \"r\") as file:\n",
    "    semantic_analogies = file.readlines()\n",
    "    semantic_analogies = [line.strip().split(\" \") for line in semantic_analogies]\n",
    "lsa_semantic = perform_analogy_test(semantic_analogies, lsa)\n",
    "w2v_semantic = perform_analogy_test(semantic_analogies, w2v_model)\n",
    "\n",
    "with open(\"syntactic_analogies.txt\", \"r\") as file:\n",
    "    syntactic_analogies = file.readlines()\n",
    "    syntactic_analogies = [line.strip().split(\" \") for line in syntactic_analogies]\n",
    "lsa_syntactic = perform_analogy_test(syntactic_analogies, lsa)\n",
    "w2v_syntactic = perform_analogy_test(syntactic_analogies, w2v_model)"
   ]
  },
  {
   "cell_type": "code",
   "execution_count": 120,
   "metadata": {},
   "outputs": [
    {
     "name": "stdout",
     "output_type": "stream",
     "text": [
      "Accuracy of LSA on semantic analogies: 0.17\n",
      "Accuracy of LSA on syntactic analogies: 0.08\n",
      "Accuracy of Word2Vec on semantic analogies: 0.66\n",
      "Accuracy of Word2Vec on syntactic analogies: 0.67\n"
     ]
    }
   ],
   "source": [
    "print(f\"Accuracy of LSA on semantic analogies: {np.round(lsa_semantic, 2)}\")\n",
    "print(f\"Accuracy of LSA on syntactic analogies: {np.round(lsa_syntactic, 2)}\")\n",
    "print(f\"Accuracy of Word2Vec on semantic analogies: {np.round(w2v_semantic, 2)}\")\n",
    "print(f\"Accuracy of Word2Vec on syntactic analogies: {np.round(w2v_syntactic, 2)}\")"
   ]
  },
  {
   "cell_type": "markdown",
   "metadata": {},
   "source": [
    "Step 5. Suggest a way to improve the existing set of vector-based models in capturing word\n",
    "similarities in general, and provide justifications for your suggestion."
   ]
  },
  {
   "cell_type": "markdown",
   "metadata": {},
   "source": [
    "For word similarity tasks, one thing that our current vector models miss out on is the particular sense of the word being used. Through context (the paired word in the Rubenstein & Goodenough (1965) task), humans can determine the sense of the word that is required to make similarity judgements. For instance, take the pair (asylum, madhouse). Here, through the use of the word \"madhouse\", humans can infer we care about the sense of the word \"asylum\" that refers to a psychiatric hospital. However, if we instead showed the pair (asylum, refuge), humans would understand that we are now referring to a different sense of the word \"asylum\" used for political refugees. In both cases, the word \"asylum\" would be quite similar to the paired word.\n",
    "\n",
    "The models we've used thusfar are static, and so have one sense of the word \"asylum\". So, it is possible that our models find one pair to be more similar than the other because a particular word sense dominated its training data. To improve our models, we ought to take context into account. One way to do this would be by using a contextual model such as BERT, and finding a prototypical vector for each of a word's senses using a variety of contextual usages of a word. \n",
    "\n",
    "Referring back to the case above, we could show the model many cases of the word \"asylum\" used in both of its senses, and then create a prototypical vector for each sense cluster. We could then treat these two prototypical sense vectors as distinct vectors for the model and find the embedding that has the highest cosine similarity with the paired word. This would make the vector models more accurate in making word similarity judgements."
   ]
  },
  {
   "cell_type": "markdown",
   "metadata": {},
   "source": [
    "# Assignment Part 1: Diachronic word embedding"
   ]
  },
  {
   "cell_type": "code",
   "execution_count": 160,
   "metadata": {},
   "outputs": [],
   "source": [
    "with open(\"data.pkl\", \"rb\") as file:\n",
    "    diachronic = pickle.load(file)"
   ]
  },
  {
   "cell_type": "code",
   "execution_count": 161,
   "metadata": {},
   "outputs": [],
   "source": [
    "words = diachronic['w'] #2000\n",
    "decades = diachronic['d']\n",
    "embeddings = diachronic['E'] #num_words X num_decades X dim_size (300)"
   ]
  },
  {
   "cell_type": "markdown",
   "metadata": {},
   "source": [
    "We need to get the year of the first embedding available for a given word, as certain words are not available in the first 1-2 decades."
   ]
  },
  {
   "cell_type": "code",
   "execution_count": 162,
   "metadata": {},
   "outputs": [],
   "source": [
    "def get_year_of_first_embedding(embeddings):\n",
    "    word_to_first_embedding = {}\n",
    "    for i in range(len(embeddings)):\n",
    "        for j in range(len(embeddings[i])):\n",
    "            if all(embeddings[i][j]):\n",
    "                word_to_first_embedding[words[i]] = j \n",
    "                break\n",
    "    return word_to_first_embedding\n",
    "            "
   ]
  },
  {
   "cell_type": "code",
   "execution_count": 190,
   "metadata": {},
   "outputs": [],
   "source": [
    "def report_most_least_changed(reordered_scores, reordered_words):\n",
    "    zipped = list(zip(reordered_scores, reordered_words))\n",
    "    least = zipped[:20]\n",
    "    most = zipped[-20:]\n",
    "    print(\"MOST\")\n",
    "    for pair in least:\n",
    "        print(f\"Word: {pair[1]} Change: {np.round(pair[0], 3)}\")\n",
    "        \n",
    "    print(\"LEAST\")\n",
    "    for pair in most:\n",
    "        print(f\"Word: {pair[1]} Change: {np.round(pair[0], 3)}\")"
   ]
  },
  {
   "cell_type": "code",
   "execution_count": 191,
   "metadata": {},
   "outputs": [],
   "source": [
    "def sort_semantic_change(change, words):\n",
    "    words = np.asarray(words)\n",
    "    least_most = np.argsort(change)\n",
    "    reordered_scores = change[least_most]\n",
    "    reordered_words = words[least_most]\n",
    "    report_most_least_changed(reordered_scores, reordered_words)\n",
    "    return reordered_scores, reordered_words"
   ]
  },
  {
   "cell_type": "code",
   "execution_count": 192,
   "metadata": {},
   "outputs": [],
   "source": [
    "def semantic_displacement(embeddings, words, word_to_first_embedding):\n",
    "    net_change = []\n",
    "    for idx in range(len(embeddings)):\n",
    "        subset = np.asarray(embeddings[idx]).reshape(len(decades), -1)\n",
    "        subset = subset[word_to_first_embedding[words[idx]]:, :]\n",
    "        change_over_time = cosine_similarity(subset, subset)\n",
    "        net_change.append(change_over_time[0][-1])\n",
    "    net_change = np.asarray(net_change)\n",
    "    return net_change"
   ]
  },
  {
   "cell_type": "code",
   "execution_count": 193,
   "metadata": {},
   "outputs": [],
   "source": [
    "def semantic_drift(embeddings, words, word_to_first_embedding):\n",
    "    mean_change = []\n",
    "    for idx in range(len(embeddings)):\n",
    "        subset = np.asarray(embeddings[idx]).reshape(len(decades), -1)\n",
    "        subset = subset[word_to_first_embedding[words[idx]]:, :]\n",
    "        dists = []\n",
    "        for i in range(len(subset)):\n",
    "            if (all(subset[i])):\n",
    "                dist = cosine_similarity(subset[i].reshape(1, -1), subset[0].reshape(1, -1))\n",
    "                dists.append(dist[0][0])\n",
    "        mean = np.mean(dists)\n",
    "        mean_change.append(mean)\n",
    "    mean_change = np.asarray(mean_change)\n",
    "    return mean_change"
   ]
  },
  {
   "cell_type": "code",
   "execution_count": 194,
   "metadata": {},
   "outputs": [],
   "source": [
    "def semantic_volatility(embeddings, words, word_to_first_embedding):\n",
    "    mean_change = []\n",
    "    for idx in range(len(embeddings)):\n",
    "        subset = np.asarray(embeddings[idx]).reshape(len(decades), -1)\n",
    "        subset = subset[word_to_first_embedding[words[idx]]:, :]\n",
    "        dists = []\n",
    "        for i in range(len(subset)-1):\n",
    "            if (all(subset[i])) and (all(subset[i+1])):\n",
    "                dist = cosine_similarity(subset[i].reshape(1, -1), subset[i+1].reshape(1, -1))\n",
    "                dists.append(dist[0][0])\n",
    "        mean = np.mean(dists)\n",
    "        mean_change.append(mean)\n",
    "    mean_change = np.asarray(mean_change)\n",
    "    return mean_change"
   ]
  },
  {
   "cell_type": "code",
   "execution_count": 195,
   "metadata": {},
   "outputs": [],
   "source": [
    "word_to_first_embedding = get_year_of_first_embedding(embeddings)"
   ]
  },
  {
   "cell_type": "code",
   "execution_count": 196,
   "metadata": {},
   "outputs": [
    {
     "name": "stdout",
     "output_type": "stream",
     "text": [
      "MOST\n",
      "Word: programs Change: 0.009\n",
      "Word: objectives Change: 0.022\n",
      "Word: computer Change: 0.039\n",
      "Word: radio Change: 0.095\n",
      "Word: sector Change: 0.099\n",
      "Word: goals Change: 0.155\n",
      "Word: approach Change: 0.16\n",
      "Word: van Change: 0.163\n",
      "Word: shri Change: 0.176\n",
      "Word: media Change: 0.187\n",
      "Word: impact Change: 0.2\n",
      "Word: perspective Change: 0.207\n",
      "Word: patterns Change: 0.218\n",
      "Word: berkeley Change: 0.222\n",
      "Word: shift Change: 0.223\n",
      "Word: film Change: 0.224\n",
      "Word: assessment Change: 0.232\n",
      "Word: stanford Change: 0.233\n",
      "Word: challenge Change: 0.234\n",
      "Word: therapy Change: 0.239\n",
      "LEAST\n",
      "Word: miles Change: 0.674\n",
      "Word: payment Change: 0.677\n",
      "Word: door Change: 0.678\n",
      "Word: evening Change: 0.678\n",
      "Word: week Change: 0.68\n",
      "Word: feet Change: 0.681\n",
      "Word: september Change: 0.682\n",
      "Word: god Change: 0.685\n",
      "Word: december Change: 0.686\n",
      "Word: daughter Change: 0.688\n",
      "Word: months Change: 0.69\n",
      "Word: century Change: 0.693\n",
      "Word: january Change: 0.698\n",
      "Word: increase Change: 0.699\n",
      "Word: october Change: 0.703\n",
      "Word: years Change: 0.709\n",
      "Word: february Change: 0.714\n",
      "Word: november Change: 0.717\n",
      "Word: june Change: 0.739\n",
      "Word: april Change: 0.765\n"
     ]
    }
   ],
   "source": [
    "m1 = semantic_displacement(embeddings, words, word_to_first_embedding)\n",
    "m1_scores, m1_words = sort_semantic_change(m1, words)"
   ]
  },
  {
   "cell_type": "code",
   "execution_count": 197,
   "metadata": {},
   "outputs": [
    {
     "name": "stdout",
     "output_type": "stream",
     "text": [
      "MOST\n",
      "Word: objectives Change: 0.147\n",
      "Word: programs Change: 0.166\n",
      "Word: computer Change: 0.184\n",
      "Word: radio Change: 0.251\n",
      "Word: sector Change: 0.274\n",
      "Word: goals Change: 0.293\n",
      "Word: shri Change: 0.337\n",
      "Word: therapy Change: 0.361\n",
      "Word: van Change: 0.37\n",
      "Word: mcgraw Change: 0.375\n",
      "Word: input Change: 0.379\n",
      "Word: patterns Change: 0.384\n",
      "Word: evaluation Change: 0.389\n",
      "Word: berkeley Change: 0.393\n",
      "Word: jobs Change: 0.401\n",
      "Word: wiley Change: 0.405\n",
      "Word: stanford Change: 0.409\n",
      "Word: wilson Change: 0.418\n",
      "Word: jones Change: 0.421\n",
      "Word: technology Change: 0.43\n",
      "LEAST\n",
      "Word: daughter Change: 0.766\n",
      "Word: payment Change: 0.767\n",
      "Word: century Change: 0.772\n",
      "Word: church Change: 0.773\n",
      "Word: june Change: 0.777\n",
      "Word: december Change: 0.777\n",
      "Word: vessels Change: 0.778\n",
      "Word: years Change: 0.779\n",
      "Word: increase Change: 0.779\n",
      "Word: months Change: 0.779\n",
      "Word: july Change: 0.779\n",
      "Word: feet Change: 0.78\n",
      "Word: trees Change: 0.783\n",
      "Word: february Change: 0.788\n",
      "Word: january Change: 0.791\n",
      "Word: september Change: 0.794\n",
      "Word: miles Change: 0.797\n",
      "Word: november Change: 0.799\n",
      "Word: october Change: 0.801\n",
      "Word: april Change: 0.82\n"
     ]
    }
   ],
   "source": [
    "m2 = semantic_drift(embeddings, words, word_to_first_embedding)\n",
    "m2_scores, m2_words = sort_semantic_change(m2, words)"
   ]
  },
  {
   "cell_type": "code",
   "execution_count": 198,
   "metadata": {},
   "outputs": [
    {
     "name": "stdout",
     "output_type": "stream",
     "text": [
      "MOST\n",
      "Word: harper Change: 0.578\n",
      "Word: jones Change: 0.578\n",
      "Word: sector Change: 0.592\n",
      "Word: berkeley Change: 0.598\n",
      "Word: wiley Change: 0.598\n",
      "Word: baltimore Change: 0.601\n",
      "Word: martin Change: 0.601\n",
      "Word: princeton Change: 0.602\n",
      "Word: wilson Change: 0.611\n",
      "Word: adams Change: 0.611\n",
      "Word: therapy Change: 0.62\n",
      "Word: johnson Change: 0.62\n",
      "Word: goals Change: 0.621\n",
      "Word: haven Change: 0.625\n",
      "Word: philip Change: 0.625\n",
      "Word: evaluation Change: 0.625\n",
      "Word: j Change: 0.626\n",
      "Word: publications Change: 0.643\n",
      "Word: stanford Change: 0.644\n",
      "Word: maryland Change: 0.648\n",
      "LEAST\n",
      "Word: blood Change: 0.82\n",
      "Word: patients Change: 0.821\n",
      "Word: june Change: 0.822\n",
      "Word: buildings Change: 0.822\n",
      "Word: temperature Change: 0.825\n",
      "Word: october Change: 0.827\n",
      "Word: decrease Change: 0.827\n",
      "Word: july Change: 0.828\n",
      "Word: solution Change: 0.828\n",
      "Word: cent Change: 0.829\n",
      "Word: trees Change: 0.831\n",
      "Word: vessels Change: 0.831\n",
      "Word: university Change: 0.831\n",
      "Word: february Change: 0.833\n",
      "Word: december Change: 0.84\n",
      "Word: january Change: 0.841\n",
      "Word: september Change: 0.844\n",
      "Word: november Change: 0.845\n",
      "Word: miles Change: 0.848\n",
      "Word: april Change: 0.855\n"
     ]
    }
   ],
   "source": [
    "m3 = semantic_volatility(embeddings, words, word_to_first_embedding)\n",
    "m3_scores, m3_words = sort_semantic_change(m3, words)"
   ]
  },
  {
   "cell_type": "code",
   "execution_count": 199,
   "metadata": {},
   "outputs": [
    {
     "data": {
      "text/html": [
       "<div>\n",
       "<style scoped>\n",
       "    .dataframe tbody tr th:only-of-type {\n",
       "        vertical-align: middle;\n",
       "    }\n",
       "\n",
       "    .dataframe tbody tr th {\n",
       "        vertical-align: top;\n",
       "    }\n",
       "\n",
       "    .dataframe thead th {\n",
       "        text-align: right;\n",
       "    }\n",
       "</style>\n",
       "<table border=\"1\" class=\"dataframe\">\n",
       "  <thead>\n",
       "    <tr style=\"text-align: right;\">\n",
       "      <th></th>\n",
       "      <th>Semantic Displacement</th>\n",
       "      <th>Semantic Drift</th>\n",
       "      <th>Semantic Volatility</th>\n",
       "    </tr>\n",
       "  </thead>\n",
       "  <tbody>\n",
       "    <tr>\n",
       "      <th>Semantic Displacement</th>\n",
       "      <td>1.000000</td>\n",
       "      <td>0.900806</td>\n",
       "      <td>0.678416</td>\n",
       "    </tr>\n",
       "    <tr>\n",
       "      <th>Semantic Drift</th>\n",
       "      <td>0.900806</td>\n",
       "      <td>1.000000</td>\n",
       "      <td>0.789278</td>\n",
       "    </tr>\n",
       "    <tr>\n",
       "      <th>Semantic Volatility</th>\n",
       "      <td>0.678416</td>\n",
       "      <td>0.789278</td>\n",
       "      <td>1.000000</td>\n",
       "    </tr>\n",
       "  </tbody>\n",
       "</table>\n",
       "</div>"
      ],
      "text/plain": [
       "                       Semantic Displacement  Semantic Drift  \\\n",
       "Semantic Displacement               1.000000        0.900806   \n",
       "Semantic Drift                      0.900806        1.000000   \n",
       "Semantic Volatility                 0.678416        0.789278   \n",
       "\n",
       "                       Semantic Volatility  \n",
       "Semantic Displacement             0.678416  \n",
       "Semantic Drift                    0.789278  \n",
       "Semantic Volatility               1.000000  "
      ]
     },
     "execution_count": 199,
     "metadata": {},
     "output_type": "execute_result"
    }
   ],
   "source": [
    "pearson_corrs = pd.DataFrame({\"Semantic Displacement\": m1, \"Semantic Drift\": m2, \"Semantic Volatility\": m3}).corr(method='pearson')\n",
    "pearson_corrs"
   ]
  },
  {
   "cell_type": "code",
   "execution_count": 247,
   "metadata": {},
   "outputs": [],
   "source": [
    "def changepoint_detection(test_words):\n",
    "    mean_change = []\n",
    "    for word in test_words:\n",
    "        idx = words.index(word)\n",
    "        subset = np.asarray(embeddings[idx]).reshape(len(decades), -1)\n",
    "        subset = subset[word_to_first_embedding[words[idx]]:, :]\n",
    "        dists = []\n",
    "        most_recent_embedding = subset[0]\n",
    "        for i in range(len(subset)-1):\n",
    "            if (all(most_recent_embedding)) and (all(subset[i+1])):\n",
    "                dist = cosine_similarity(subset[i].reshape(1, -1), subset[i+1].reshape(1, -1))\n",
    "                dists.append(dist[0][0])\n",
    "                most_recent_embedding = subset[i+1]\n",
    "            else:\n",
    "                if len(dists) == 0:\n",
    "                    dists.append(1)\n",
    "                else:\n",
    "                    dists.append(dists[-1])\n",
    "        mean_change.append(dists)\n",
    "    return mean_change"
   ]
  },
  {
   "cell_type": "code",
   "execution_count": 248,
   "metadata": {},
   "outputs": [],
   "source": [
    "test_words = [\"computer\", \"program\", \"objectives\"]\n",
    "mean_change = changepoint_detection(test_words)"
   ]
  },
  {
   "cell_type": "code",
   "execution_count": 249,
   "metadata": {},
   "outputs": [
    {
     "data": {
      "text/plain": [
       "<matplotlib.collections.PathCollection at 0x7f4d7d981d90>"
      ]
     },
     "execution_count": 249,
     "metadata": {},
     "output_type": "execute_result"
    },
    {
     "data": {
      "image/png": "[encoded data removed]",
      "text/plain": [
       "<Figure size 432x288 with 1 Axes>"
      ]
     },
     "metadata": {
      "needs_background": "light"
     },
     "output_type": "display_data"
    }
   ],
   "source": [
    "plt.plot(decades[1:], mean_change[0], label=test_words[0])\n",
    "plt.plot(decades[1:], mean_change[1], label=test_words[1])\n",
    "plt.plot(decades[1:], mean_change[2], label=test_words[2])\n",
    "plt.legend()\n",
    "plt.xlabel(\"Decades\")\n",
    "plt.ylabel(\"Similarity with Previous Embedding\")\n",
    "plt.title(\"Meaning Shift of Top Three Words Relative to Previous Decade\")\n",
    "plt.scatter([1940, 1930, 1960], [0, 0.77, 0.70], color=\"red\")"
   ]
  },
  {
   "cell_type": "markdown",
   "metadata": {},
   "source": [
    "For this change point detection algorithm, we can simply calculate the degree to which each decade's embedding is similar to the embedding from the previous decade. If the similarity is high between a pair of consecutive decades, this suggests that the word has not experienced a large shift in meaning. Conversely, if we see a dip in cosine similarity in a particular decade, this would tell us that the word has experienced a meaning shift at that point in time, and thus that this is our change point. The red points show change points detected by the algorithm.\n",
    "\n",
    "For the word \"computer\", we see that this happens in 1940s, when it acquires a more digital meaning. The word \"program\" seems to experience a shift around 1960, which is sensible as it occurs after computers become more ubiquitous. Finally, the word \"objectives\" seems to experience its change point in the 1930s. I'm not sure why this would be the case, though it could be the case that the word took on a more militaristic meaning given the prevalence of the World Wars during these decades."
   ]
  }
 ],
 "metadata": {
  "kernelspec": {
   "display_name": "Python 3.7.9 ('venv37')",
   "language": "python",
   "name": "python3"
  },
  "language_info": {
   "codemirror_mode": {
    "name": "ipython",
    "version": 3
   },
   "file_extension": ".py",
   "mimetype": "text/x-python",
   "name": "python",
   "nbconvert_exporter": "python",
   "pygments_lexer": "ipython3",
   "version": "3.7.9"
  },
  "vscode": {
   "interpreter": {
    "hash": "3da9994af9e3093f34be5556416449be7c3908df46ffc29ccdba7bd3fd3a7b92"
   }
  }
 },
 "nbformat": 4,
 "nbformat_minor": 2
}
